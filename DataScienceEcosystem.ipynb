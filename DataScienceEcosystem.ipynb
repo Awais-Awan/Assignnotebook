{
 "cells": [
  {
   "cell_type": "markdown",
   "id": "2dbd7461-aa02-4589-8059-756326024f51",
   "metadata": {
    "tags": []
   },
   "source": [
    "# Data Science Tools and Ecosystem"
   ]
  },
  {
   "cell_type": "markdown",
   "id": "25426fbb-ce91-416d-9c41-a672a6bfd5ab",
   "metadata": {
    "tags": []
   },
   "source": [
    "In this notebook, Data Science Tools and Ecosystem are summarized."
   ]
  },
  {
   "cell_type": "markdown",
   "id": "1bc5d210-a259-4b3e-a22d-1ab5260e59bf",
   "metadata": {},
   "source": [
    "Some of the popular languages that Data Scientists use are:\n",
    "1. Python\n",
    "2. R\n",
    "3. C++\n",
    "4. Java"
   ]
  },
  {
   "cell_type": "markdown",
   "id": "93e6b468-846a-4799-a8a7-b7dfd46d4ddc",
   "metadata": {},
   "source": [
    "Some of the commonly used libraries used by Data Scientists include:\n",
    "1. numpy\n",
    "2. pandas\n",
    "3. matplotlib\n",
    "4. scipy"
   ]
  },
  {
   "cell_type": "markdown",
   "id": "9ebf08a1-a44a-499a-bcca-37a7f8385cec",
   "metadata": {
    "tags": []
   },
   "source": [
    "| Data Science Tools|\n",
    "| --- |\n",
    "| Jupyter notebook |\n",
    "| Rstudio |\n",
    "| Apache Airflow |"
   ]
  },
  {
   "cell_type": "markdown",
   "id": "a4d56828-69de-42df-995b-528ac024b33e",
   "metadata": {},
   "source": [
    "### Below are a few examples of evaluating arithmetic expressions in Python\n"
   ]
  },
  {
   "cell_type": "code",
   "execution_count": 3,
   "id": "97a86ebf-2526-4791-94c4-645c9d9457e1",
   "metadata": {
    "tags": []
   },
   "outputs": [
    {
     "data": {
      "text/plain": [
       "17"
      ]
     },
     "execution_count": 3,
     "metadata": {},
     "output_type": "execute_result"
    }
   ],
   "source": [
    "#This a simple arithmetic expression to mutiply then add integers\n",
    "(3*4)+5"
   ]
  },
  {
   "cell_type": "code",
   "execution_count": 6,
   "id": "3c9f8fe4-4cac-4874-a446-4edcfe074525",
   "metadata": {
    "tags": []
   },
   "outputs": [
    {
     "name": "stdout",
     "output_type": "stream",
     "text": [
      "converted value:3.3333333333333335\n"
     ]
    }
   ],
   "source": [
    "#This will convert 200 minutes to hours by diving by 60\n",
    "print(\"converted value:\"+ str(200/60))"
   ]
  },
  {
   "cell_type": "markdown",
   "id": "e36e3a63-ddd9-43c8-abf3-fd62a1a672b8",
   "metadata": {},
   "source": [
    "Objectives:\n",
    "- python\n",
    "- R\n",
    "- Julia \n",
    "- Java\n",
    "- C++"
   ]
  },
  {
   "cell_type": "markdown",
   "id": "ce642215-2234-4fed-9174-7ef39cfd454e",
   "metadata": {},
   "source": [
    "## Author\n",
    "Awais"
   ]
  },
  {
   "cell_type": "code",
   "execution_count": null,
   "id": "5c92cc20-e96a-4f49-8901-601ff93aee99",
   "metadata": {},
   "outputs": [],
   "source": []
  }
 ],
 "metadata": {
  "kernelspec": {
   "display_name": "Python",
   "language": "python",
   "name": "conda-env-python-py"
  },
  "language_info": {
   "codemirror_mode": {
    "name": "ipython",
    "version": 3
   },
   "file_extension": ".py",
   "mimetype": "text/x-python",
   "name": "python",
   "nbconvert_exporter": "python",
   "pygments_lexer": "ipython3",
   "version": "3.7.12"
  }
 },
 "nbformat": 4,
 "nbformat_minor": 5
}
